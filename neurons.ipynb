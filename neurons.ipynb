{
 "cells": [
  {
   "cell_type": "code",
   "execution_count": null,
   "metadata": {},
   "outputs": [],
   "source": [
    "# SINGLE BAR MOVING \n",
    "import numpy as np \n",
    "import random\n",
    "width = 304\n",
    "height = 240\n",
    "\n",
    "vel = 152  # px/s\n",
    "t_period = 1 / vel  # s\n",
    "l = 10\n",
    "\n",
    "# white bar on dark background\n",
    "pol = [0, 1]\n",
    "\n",
    "randy = np.arange(height)\n",
    "idx = 0\n",
    "events = {\"x\": [], \"y\": [], \"ts\": [], \"pol\": [], \"idx\": []}\n",
    "for x in np.arange(width):\n",
    "    #random.shuffle(randy)\n",
    "    for y in randy:\n",
    "        # events is a list of tuples: (x position, y position, time in seconds, on/off polarity, idx pixel index)\n",
    "        t = x / vel  # s\n",
    "        # creating events\n",
    "        # x\n",
    "        events['x'].append(x)\n",
    "        # y\n",
    "        events['y'].append(y)\n",
    "        # ts\n",
    "        events['ts'].append(t)\n",
    "        # pol\n",
    "        events['pol'].append(pol[0])\n",
    "        # idx\n",
    "        events['idx'].append(idx)\n",
    "        idx += 1\n",
    "        if l < x < (width - l):\n",
    "            # x\n",
    "            events['x'].append(x - l)\n",
    "            # y\n",
    "            events['y'].append(y)\n",
    "            # ts\n",
    "            events['ts'].append(t)\n",
    "            # pol\n",
    "            events['pol'].append(pol[1])\n",
    "            # idx\n",
    "            events['idx'].append(idx-height*l)"
   ]
  },
  {
   "cell_type": "code",
   "execution_count": null,
   "metadata": {},
   "outputs": [],
   "source": [
    "# Code creating random events all over the visual field simulating coherent motion\n",
    "\n",
    "import matplotlib\n",
    "import matplotlib.pyplot as plt\n",
    "import numpy as np\n",
    "from numpy import random\n",
    "from tempfile import TemporaryFile\n",
    "import time\n",
    "import os\n",
    "\n",
    "# os.system('cls')\n",
    "matplotlib.use('TkAgg')\n",
    "\n",
    "# camera resolution\n",
    "width = 50\n",
    "height = 50\n",
    "\n",
    "\n",
    "t = [0.0, 0.1, 0.2, 0.3, 0.4, 0.5, 0.6, 0.7] # s\n",
    "pol = 1\n",
    "events = {\"x\": [], \"y\": [], \"ts\": [], \"pol\": [], \"idx\": []}\n",
    "frame = np.zeros((width, height))\n",
    "plt.figure()\n",
    "num_e = 2000\n",
    "\n",
    "for ts in t:\n",
    "    x_sample = np.random.choice(np.arange(width),  size=num_e)\n",
    "    y_sample = np.random.choice(np.arange(height), size=num_e)\n",
    "    for i in np.arange(len(x_sample)):\n",
    "        # events is a list of tuples: (x position, y position, time in seconds, on/off polarity)\n",
    "        # creating events\n",
    "        # x\n",
    "        events['x'].append(x_sample[i])\n",
    "        # y\n",
    "        events['y'].append(y_sample[i])\n",
    "        # ts\n",
    "        events['ts'].append(ts)\n",
    "        # pol\n",
    "        events['pol'].append(pol)\n",
    "        # idx\n",
    "        events['idx'].append(x_sample[i] * height + y_sample[i])\n",
    "        frame[y_sample[i], x_sample[i]] = 1\n",
    "    # Visualization\n",
    "    # plt.ion()\n",
    "    # plt.imshow(frame)\n",
    "    # plt.draw()\n",
    "    # plt.pause(0.5)\n",
    "    # frame = np.zeros((width, height))\n",
    "\n",
    "\n",
    "# for idx in np.arange(len(events['x'])):\n",
    "#     if events['ts'][idx] < t_period:\n",
    "#         frame[(events['y'][idx], events['x'][idx])] = 1\n",
    "#     else:\n",
    "#         ax.matshow(frame)  # or ax.imshow(frame)\n",
    "#         plt.draw()\n",
    "#         plt.pause(0.1)\n",
    "#         frame = np.zeros((height, width))\n",
    "#         frame[(events['y'][idx], events['x'][idx])] = 1\n"
   ]
  },
  {
   "cell_type": "code",
   "execution_count": 6,
   "metadata": {},
   "outputs": [],
   "source": []
  },
  {
   "cell_type": "code",
   "execution_count": 8,
   "metadata": {},
   "outputs": [],
   "source": [
    "from brian2 import *\n",
    "from brian2tools import *\n",
    "%matplotlib inline\n",
    "\n",
    "# events = np.load(\"events.npy\", allow_pickle='TRUE').item()\n"
   ]
  },
  {
   "cell_type": "code",
   "execution_count": 9,
   "metadata": {},
   "outputs": [
    {
     "name": "stderr",
     "output_type": "stream",
     "text": [
      "WARNING    Cannot use Cython, a test compilation failed: Microsoft Visual C++ 14.0 or greater is required. Get it with \"Microsoft C++ Build Tools\": https://visualstudio.microsoft.com/visual-cpp-build-tools/ (DistutilsPlatformError) [brian2.codegen.runtime.cython_rt.cython_rt.failed_compile_test]\n",
      "INFO       Cannot use compiled code, falling back to the numpy code generation target. Note that this will likely be slower than using compiled code. Set the code generation to numpy manually to avoid this message:\n",
      "prefs.codegen.target = \"numpy\" [brian2.devices.device.codegen_fallback]\n"
     ]
    },
    {
     "data": {
      "text/plain": [
       "<Axes: xlabel='time (ms)', ylabel='neuron index'>"
      ]
     },
     "execution_count": 9,
     "metadata": {},
     "output_type": "execute_result"
    },
    {
     "data": {
      "text/plain": [
       "<Figure size 800x600 with 0 Axes>"
      ]
     },
     "metadata": {},
     "output_type": "display_data"
    },
    {
     "data": {
      "text/plain": [
       "<Figure size 800x600 with 0 Axes>"
      ]
     },
     "metadata": {},
     "output_type": "display_data"
    },
    {
     "data": {
      "text/plain": [
       "<Figure size 800x600 with 0 Axes>"
      ]
     },
     "metadata": {},
     "output_type": "display_data"
    },
    {
     "data": {
      "text/plain": [
       "<Figure size 800x600 with 0 Axes>"
      ]
     },
     "metadata": {},
     "output_type": "display_data"
    },
    {
     "data": {
      "text/plain": [
       "<Figure size 800x600 with 0 Axes>"
      ]
     },
     "metadata": {},
     "output_type": "display_data"
    },
    {
     "data": {
      "image/png": "[encoded data removed]",
      "text/plain": [
       "<Figure size 800x600 with 1 Axes>"
      ]
     },
     "metadata": {},
     "output_type": "display_data"
    },
    {
     "data": {
      "image/png": "[encoded data removed]",
      "text/plain": [
       "<Figure size 640x480 with 1 Axes>"
      ]
     },
     "metadata": {},
     "output_type": "display_data"
    }
   ],
   "source": [
    "start_scope()\n",
    "\n",
    "# Spike generator group simulating bipolar (BP) cells aka the events\n",
    "idxs = array(events['idx'])\n",
    "times = array(events['ts'])*second\n",
    "N = height*width # The placement of the neurons are to cover the full visual field equally. Therefore, depending on the angle you can\n",
    "# displace the number of neurons you want on each angle.\n",
    "BP = SpikeGeneratorGroup(N, events['idx'], events['ts']*second)\n",
    "\n",
    "\n",
    "# # NeuronGroup for creating OMS cells\n",
    "# # LIF neuron\n",
    "# # (unless refractory) to add if a refractory period is defined in NeuronGroup\n",
    "eqs = '''\n",
    "dv/dt = (I-v)/tau : 1  \n",
    "I : 1\n",
    "tau : second\n",
    "'''\n",
    "\n",
    "OMS = NeuronGroup(N, eqs, threshold='v>1', reset='v=0', method='exact') # Adding a threshold and the reset to 0 after a spike. (to add RP : refractory = 3*ms)\n",
    "OMS.tau = [5]*ms\n",
    "\n",
    "# # Creating the synapse between BP and OMS\n",
    "S = Synapses(BP, OMS, on_pre='v_post +=1.5')\n",
    "S.connect(i='j')\n",
    "\n",
    "spike_mon = SpikeMonitor(OMS) # Recording spikes\n",
    "# # rate_mon = PopulationRateMonitor(OMS) # Recording IFR, averaged across the neurons of the group \n",
    "state_mon = StateMonitor(OMS, 'v', record = True) # Recording state variable v during a run\n",
    "\n",
    "run(1*second)\n",
    "\n",
    "# for i in arange(N):\n",
    "#     plot(state_mon.t/ms, state_mon.v[i], label='OMS ' + str(i+1))\n",
    "#     xlabel('Time (ms)')\n",
    "#     ylabel('V (volt)')\n",
    "#     legend()\n",
    "\n",
    "figure()\n",
    "brian_plot(spike_mon)\n",
    "\n"
   ]
  },
  {
   "cell_type": "code",
   "execution_count": null,
   "metadata": {},
   "outputs": [],
   "source": [
    "# NeuronGroup for creating a single Amacrine Cell (A)\n",
    "A = NeuronGroup(1, eqs, threshold='v>1', reset='v=0', method='exact')  # refractory=3*ms\n",
    "# Setting the input for the cells.\n",
    "A.I = 0\n",
    "# Setting the time constant\n",
    "A.tau = 10 * ms\n",
    "\n",
    "# Excitation synapses from BP cells to the A cell\n",
    "S = Synapses(B, A, on_pre='v_post +=0.6')\n",
    "S.connect()\n",
    "\n",
    "\n",
    "# Visualizing connectivity\n",
    "def visualise_connectivity(S):\n",
    "    Ns = len(S.source)\n",
    "    Nt = len(S.target)\n",
    "    figure(figsize=(25, 8))\n",
    "\n",
    "    plot(zeros(Ns), arange(Ns), 'ok', ms=10)\n",
    "    plot(ones(Nt), arange(Nt), 'ok', ms=10)\n",
    "    for i, j in zip(S.i, S.j):\n",
    "        plot([0, 1], [i, j], '-k')\n",
    "    xticks([0, 1], ['OMS', 'A'])\n",
    "    ylabel('Neuron index')\n",
    "    xlim(-0.1, 1.1)\n",
    "    ylim(-1, max(Ns, Nt))\n",
    "\n",
    "\n",
    "visualise_connectivity(S)\n",
    "\n",
    "# Inhibitory synapses from A cell to all OMS (G) cells\n",
    "S = Synapses(A, B, on_pre='v_post -=0.6')\n",
    "S.connect()\n",
    "\n",
    "\n",
    "# Visualizing connectivity\n",
    "def visualise_connectivity(S):\n",
    "    Ns = len(S.source)\n",
    "    Nt = len(S.target)\n",
    "    figure(figsize=(25, 8))\n",
    "\n",
    "    plot(zeros(Ns), arange(Ns), 'ok', ms=10)\n",
    "    plot(ones(Nt), arange(Nt), 'ok', ms=10)\n",
    "    for i, j in zip(S.i, S.j):\n",
    "        plot([0, 1], [i, j], '-k')\n",
    "    xticks([0, 1], ['A', 'OMS'])\n",
    "    ylabel('Neuron index')\n",
    "    xlim(-0.1, 1.1)\n",
    "    ylim(-1, max(Ns, Nt))\n",
    "\n",
    "\n",
    "visualise_connectivity(S)"
   ]
  }
 ],
 "metadata": {
  "kernelspec": {
   "display_name": "base",
   "language": "python",
   "name": "python3"
  },
  "language_info": {
   "codemirror_mode": {
    "name": "ipython",
    "version": 3
   },
   "file_extension": ".py",
   "mimetype": "text/x-python",
   "name": "python",
   "nbconvert_exporter": "python",
   "pygments_lexer": "ipython3",
   "version": "3.10.4"
  },
  "orig_nbformat": 4
 },
 "nbformat": 4,
 "nbformat_minor": 2
}
